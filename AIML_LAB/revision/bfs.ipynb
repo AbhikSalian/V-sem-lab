{
 "cells": [
  {
   "cell_type": "code",
   "execution_count": 5,
   "metadata": {},
   "outputs": [
    {
     "name": "stdout",
     "output_type": "stream",
     "text": [
      "Parents:  {'S': 'S', 'A': 'S', 'B': 'S', 'C': 'S', 'G': 'C'}\n",
      "Path : ['S', 'C', 'G']\n"
     ]
    }
   ],
   "source": [
    "import heapq\n",
    "Graph_nodes={\n",
    "    'S': ['A','B','C'],\n",
    "    'A': ['D','E','G'],\n",
    "    'B': ['G'],\n",
    "    'C': ['G']\n",
    "}\n",
    "\n",
    "def heuristic(n):\n",
    "    H_dist={\n",
    "        'S':8,\n",
    "        'A':8,\n",
    "        'B':4,\n",
    "        'C':3,\n",
    "        'D':99,\n",
    "        'E':99,\n",
    "        'G':0\n",
    "    }\n",
    "    return H_dist[n]\n",
    "\n",
    "def best_first_search(graph,start,goal):\n",
    "    open=[(heuristic(start), start)]\n",
    "    parent={}\n",
    "    parent[start]=start\n",
    "    while open:\n",
    "        _,peak_node=heapq.heappop(open)\n",
    "        if peak_node==goal:\n",
    "            break\n",
    "        for  neighbor in graph[peak_node]:\n",
    "            if neighbor not in parent:\n",
    "                heapq.heappush(open,(heuristic(neighbor),neighbor))\n",
    "                parent[neighbor]=peak_node\n",
    "        if neighbor==goal:\n",
    "            path=[]\n",
    "            print(\"Parents: \",parent)\n",
    "            while parent[neighbor]!=neighbor:\n",
    "                path.append(neighbor)\n",
    "                neighbor=parent[neighbor]\n",
    "            path.append(start)\n",
    "            path.reverse()\n",
    "            print(\"Path : {}\".format(path))\n",
    "    \n",
    "best_first_search(Graph_nodes,'S','G')\n"
   ]
  }
 ],
 "metadata": {
  "kernelspec": {
   "display_name": "Python 3",
   "language": "python",
   "name": "python3"
  },
  "language_info": {
   "codemirror_mode": {
    "name": "ipython",
    "version": 3
   },
   "file_extension": ".py",
   "mimetype": "text/x-python",
   "name": "python",
   "nbconvert_exporter": "python",
   "pygments_lexer": "ipython3",
   "version": "3.10.4"
  }
 },
 "nbformat": 4,
 "nbformat_minor": 2
}
