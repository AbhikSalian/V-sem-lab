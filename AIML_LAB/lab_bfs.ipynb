{
 "cells": [
  {
   "cell_type": "code",
   "execution_count": 4,
   "metadata": {},
   "outputs": [
    {
     "name": "stdout",
     "output_type": "stream",
     "text": [
      "Following is the Breadth-First Search\n",
      "A B C D E F G "
     ]
    }
   ],
   "source": [
    "graph={\n",
    "    'A': ['B','C'],\n",
    "    'B': ['D','E'],\n",
    "    'C': ['F'],\n",
    "    'D': ['G'],\n",
    "    'E': [],\n",
    "    'F': [],\n",
    "    'G': [] \n",
    "}\n",
    "visited=[]\n",
    "def bfs(node):\n",
    "    queue=[]\n",
    "    visited.append(node)\n",
    "    queue.append(node)\n",
    "\n",
    "    while queue:\n",
    "        v=queue.pop(0)\n",
    "        print(v,end=\" \")\n",
    "        for neigh in graph[v]:\n",
    "            if neigh not in visited:\n",
    "                visited.append(neigh)\n",
    "                queue.append(neigh)\n",
    "print('Following is the Breadth-First Search')\n",
    "bfs('A')"
   ]
  }
 ],
 "metadata": {
  "kernelspec": {
   "display_name": "Python 3",
   "language": "python",
   "name": "python3"
  },
  "language_info": {
   "codemirror_mode": {
    "name": "ipython",
    "version": 3
   },
   "file_extension": ".py",
   "mimetype": "text/x-python",
   "name": "python",
   "nbconvert_exporter": "python",
   "pygments_lexer": "ipython3",
   "version": "3.11.2"
  }
 },
 "nbformat": 4,
 "nbformat_minor": 2
}
