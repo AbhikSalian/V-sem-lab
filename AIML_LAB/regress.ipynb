{
 "cells": [
  {
   "cell_type": "code",
   "execution_count": 1,
   "metadata": {},
   "outputs": [
    {
     "ename": "ModuleNotFoundError",
     "evalue": "No module named 'pandas'",
     "output_type": "error",
     "traceback": [
      "\u001b[1;31m---------------------------------------------------------------------------\u001b[0m",
      "\u001b[1;31mModuleNotFoundError\u001b[0m                       Traceback (most recent call last)",
      "Cell \u001b[1;32mIn[1], line 2\u001b[0m\n\u001b[0;32m      1\u001b[0m \u001b[38;5;28;01mimport\u001b[39;00m \u001b[38;5;21;01mmatplotlib\u001b[39;00m\u001b[38;5;21;01m.\u001b[39;00m\u001b[38;5;21;01mpyplot\u001b[39;00m \u001b[38;5;28;01mas\u001b[39;00m \u001b[38;5;21;01mplt\u001b[39;00m\n\u001b[1;32m----> 2\u001b[0m \u001b[38;5;28;01mimport\u001b[39;00m \u001b[38;5;21;01mpandas\u001b[39;00m \u001b[38;5;28;01mas\u001b[39;00m \u001b[38;5;21;01mpd\u001b[39;00m\n\u001b[0;32m      3\u001b[0m \u001b[38;5;28;01mimport\u001b[39;00m \u001b[38;5;21;01mnumpy\u001b[39;00m \u001b[38;5;28;01mas\u001b[39;00m \u001b[38;5;21;01mnp\u001b[39;00m\n\u001b[0;32m      5\u001b[0m \u001b[38;5;28;01mdef\u001b[39;00m \u001b[38;5;21mkernel\u001b[39m(point,xmat,k):\n",
      "\u001b[1;31mModuleNotFoundError\u001b[0m: No module named 'pandas'"
     ]
    }
   ],
   "source": [
    "import matplotlib.pyplot as plt\n",
    "import pandas as pd\n",
    "import numpy as np\n",
    "\n",
    "def kernel(point,xmat,k):\n",
    "    m,n=np.shape(xmat)\n",
    "    weights=np.mat(np.eye((m)))\n",
    "    for j in range(m):\n",
    "        diff=point-X[j]\n",
    "        weights[j,j]=np.exp(diff*diff.T/(-2.0*k**2))\n",
    "    return weights\n",
    "\n",
    "def localWeight(point,xmat,ymat,k):\n",
    "    wei=kernel(point,xmat,k)\n",
    "    W=(X.T*(wei*X)).I*(X.T*(wei*ymat.T))\n",
    "    return W\n",
    "\n",
    "def localWeightRegression(xmat,ymat,k):\n",
    "    m,n=np.shape(xmat)\n",
    "    ypred=np.zeros(m)\n",
    "    for i in range(m):\n",
    "        ypred[i]=xmat[i]*localWeight(xmat[i],xmat,ymat,k)\n",
    "    return ypred\n",
    "\n",
    "def graphPlot(X,ypred):\n",
    "    sortindex=X[:,1].argsort(0)\n",
    "    print(\"sort index : \",sortindex)    \n",
    "    xsort=X[sortindex][:,0]\n",
    "    print(\"X sort : \",xsort)\n",
    "    fig=plt.figure()\n",
    "    ax=fig.add_subplot(1,1,1)\n",
    "    ax.scatter(bill,tip,color='green')\n",
    "    ax.plot(xsort[:,1],ypred[sortindex],color='red',linewidth=5)\n",
    "    plt.xlabel('Total bill')\n",
    "    plt.ylabel('Tip')\n",
    "    plt.show()\n",
    "\n",
    "data=pd.read_csv('data9.csv')\n",
    "bill=np.array(data.total_bill)\n",
    "tip=np.array(data.tip)\n",
    "mbill=np.mat(bill)\n",
    "print(\"Mbill : \",mbill)\n",
    "mtip=np.mat(tip)\n",
    "print(\"MTip : \",mtip)\n",
    "m=np.shape(mbill)[1]\n",
    "one=np.mat((np.ones(m)))\n",
    "print(\"one : \",one)\n",
    "X=np.hstack((one.T,mbill.T))\n",
    "print(\"X : \",X)\n",
    "ypred=localWeightRegression(X,mtip,5)\n",
    "graphPlot(X,ypred)"
   ]
  },
  {
   "cell_type": "code",
   "execution_count": 6,
   "metadata": {},
   "outputs": [
    {
     "name": "stdout",
     "output_type": "stream",
     "text": [
      "[[ 3 10]\n",
      " [ 1  5]\n",
      " [ 2  8]\n",
      " [ 4  2]]\n",
      "Original data\n",
      " [[ 3 10]\n",
      " [ 1  5]\n",
      " [ 2  8]\n",
      " [ 4  2]]\n",
      "Sortindex\n",
      " [3 1 2 0]\n",
      "Xsort data\n",
      " [4 1 2 3]\n"
     ]
    }
   ],
   "source": [
    "X=np.array([[3,10],[1,5],[2,8],[4,2]])\n",
    "print(X)\n",
    "sortindex=X[:,1].argsort(0)\n",
    "Xsort=X[sortindex][:,0]\n",
    "print(\"Original data\\n\",X)\n",
    "print(\"Sortindex\\n\",sortindex)\n",
    "print(\"Xsort data\\n\",Xsort)"
   ]
  }
 ],
 "metadata": {
  "kernelspec": {
   "display_name": "Python 3",
   "language": "python",
   "name": "python3"
  },
  "language_info": {
   "codemirror_mode": {
    "name": "ipython",
    "version": 3
   },
   "file_extension": ".py",
   "mimetype": "text/x-python",
   "name": "python",
   "nbconvert_exporter": "python",
   "pygments_lexer": "ipython3",
   "version": "3.10.4"
  }
 },
 "nbformat": 4,
 "nbformat_minor": 2
}
