{
 "cells": [
  {
   "cell_type": "code",
   "execution_count": 3,
   "metadata": {},
   "outputs": [
    {
     "name": "stdout",
     "output_type": "stream",
     "text": [
      "closed list {'S': None, 'A': 'S', 'B': 'S', 'C': 'S', 'G': 'C'}\n",
      "BFS path from S to G : ['S', 'C', 'G']\n"
     ]
    }
   ],
   "source": [
    "import heapq\n",
    "Graph_nodes = {\n",
    "    'S': ['A','B','C'],\n",
    "    'A': ['D','E','G'],\n",
    "    'B': ['G'],\n",
    "    'C': ['G']\n",
    "}\n",
    "def heuristic(n):\n",
    "    H_dist={\n",
    "        'S':8,\n",
    "        'A':8,\n",
    "        'B':4,\n",
    "        'C':3,\n",
    "        'D':99,\n",
    "        'E':99,\n",
    "        'G':0\n",
    "    }\n",
    "    return H_dist[n]\n",
    "\n",
    "def best_first_search(graph, start,goal):\n",
    "    open = [(heuristic(start),start)]\n",
    "    closed={}\n",
    "    closed[start] = None\n",
    "    \n",
    "    while open:\n",
    "        hello,peak_node = heapq.heappop(open)\n",
    "        \n",
    "        if peak_node == goal:\n",
    "            break\n",
    "        \n",
    "        for neighbour in graph[peak_node]:\n",
    "            if neighbour not in closed:\n",
    "                heapq.heappush(open, (heuristic(neighbour), neighbour))\n",
    "                closed[neighbour] = peak_node\n",
    "    return closed\n",
    "            \n",
    "start_node = 'S'\n",
    "goal_node = 'G'\n",
    "closed = best_first_search(Graph_nodes, start_node, goal_node)\n",
    "print(\"closed list\",closed)\n",
    "node = goal_node\n",
    "path = [node]\n",
    "            \n",
    "while node !=start_node:\n",
    "    node = closed[node]\n",
    "    path.append(node)\n",
    "                \n",
    "path.reverse()\n",
    "print(\"BFS path from\",start_node,\"to\",goal_node,\":\",path)"
   ]
  }
 ],
 "metadata": {
  "kernelspec": {
   "display_name": "Python 3",
   "language": "python",
   "name": "python3"
  },
  "language_info": {
   "codemirror_mode": {
    "name": "ipython",
    "version": 3
   },
   "file_extension": ".py",
   "mimetype": "text/x-python",
   "name": "python",
   "nbconvert_exporter": "python",
   "pygments_lexer": "ipython3",
   "version": "3.10.4"
  }
 },
 "nbformat": 4,
 "nbformat_minor": 2
}
