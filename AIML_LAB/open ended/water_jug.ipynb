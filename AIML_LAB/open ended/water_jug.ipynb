{
 "cells": [
  {
   "cell_type": "code",
   "execution_count": 9,
   "metadata": {},
   "outputs": [
    {
     "name": "stdout",
     "output_type": "stream",
     "text": [
      "Sequence of operations:\n",
      "Fill jug A\n",
      "Pour 3 litres from A to B\n",
      "Empty jug B\n",
      "Pour 2 litres from A to B\n",
      "Fill jug A\n",
      "Pour 1 litres from A to B\n",
      "Empty jug B\n",
      "Pour 3 litres from A to B\n",
      "Empty jug B\n"
     ]
    }
   ],
   "source": [
    "def water_jug_problem(A, B, C):\n",
    "    operations = []\n",
    "\n",
    "    # Fill jug A\n",
    "    current_A, current_B = A, 0\n",
    "    operations.append(f\"Fill jug A\")\n",
    "\n",
    "    while current_A != C and current_B != C:\n",
    "        # Pour from A to B\n",
    "        transfer = min(current_A, B - current_B)\n",
    "        current_A -= transfer\n",
    "        current_B += transfer\n",
    "        operations.append(f\"Pour {transfer} litres from A to B\")\n",
    "\n",
    "        # If B becomes full, empty it\n",
    "        if current_B == B:\n",
    "            current_B = 0\n",
    "            operations.append(f\"Empty jug B\")\n",
    "\n",
    "        # If A becomes empty, fill it\n",
    "        if current_A == 0:\n",
    "            current_A = A\n",
    "            operations.append(f\"Fill jug A\")\n",
    "\n",
    "    return operations\n",
    "\n",
    "# Example usage:\n",
    "A = 5  # Capacity of jug A\n",
    "B = 3  # Capacity of jug B\n",
    "C = 1 # Target amount to measure\n",
    "\n",
    "sequence_of_operations = water_jug_problem(A, B, C)\n",
    "if sequence_of_operations:\n",
    "    print(\"Sequence of operations:\")\n",
    "    for operation in sequence_of_operations:\n",
    "        print(operation)\n",
    "else:\n",
    "    print(\"Target amount cannot be measured.\")\n"
   ]
  }
 ],
 "metadata": {
  "kernelspec": {
   "display_name": "Python 3",
   "language": "python",
   "name": "python3"
  },
  "language_info": {
   "codemirror_mode": {
    "name": "ipython",
    "version": 3
   },
   "file_extension": ".py",
   "mimetype": "text/x-python",
   "name": "python",
   "nbconvert_exporter": "python",
   "pygments_lexer": "ipython3",
   "version": "3.11.2"
  }
 },
 "nbformat": 4,
 "nbformat_minor": 2
}
