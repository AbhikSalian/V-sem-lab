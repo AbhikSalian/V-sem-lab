{
 "cells": [
  {
   "cell_type": "code",
   "execution_count": 3,
   "metadata": {},
   "outputs": [
    {
     "name": "stdout",
     "output_type": "stream",
     "text": [
      "Move disk 1 from rod A to rod C.\n"
     ]
    }
   ],
   "source": [
    "import sys\n",
    "def tower_of_hanoi(n, source, intermediate, dest):  \n",
    "    if n<=0:\n",
    "        print(\"Number of discs must be greater than or equal to 1\")\n",
    "        return\n",
    "\n",
    "    if(n == 1):  \n",
    "        print(f'Move disk 1 from rod {source} to rod {dest}.')  \n",
    "        return  \n",
    " \n",
    "    tower_of_hanoi(n - 1, source, dest, intermediate)  \n",
    "    print(f'Move disk {n} from rod {source} to rod {dest}.')  \n",
    "    tower_of_hanoi(n - 1, intermediate, source, dest)  \n",
    "  \n",
    "  \n",
    "n = int(input('Enter the number of discs: '))\n",
    "\n",
    "tower_of_hanoi(n, 'A', 'B', 'C')"
   ]
  }
 ],
 "metadata": {
  "kernelspec": {
   "display_name": "Python 3",
   "language": "python",
   "name": "python3"
  },
  "language_info": {
   "codemirror_mode": {
    "name": "ipython",
    "version": 3
   },
   "file_extension": ".py",
   "mimetype": "text/x-python",
   "name": "python",
   "nbconvert_exporter": "python",
   "pygments_lexer": "ipython3",
   "version": "3.10.4"
  }
 },
 "nbformat": 4,
 "nbformat_minor": 2
}
