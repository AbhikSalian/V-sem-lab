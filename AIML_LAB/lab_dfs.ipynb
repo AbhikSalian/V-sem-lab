{
 "cells": [
  {
   "cell_type": "code",
   "execution_count": 6,
   "metadata": {},
   "outputs": [
    {
     "name": "stdout",
     "output_type": "stream",
     "text": [
      "Following is the Depth-First Search\n",
      "A B D G E C F "
     ]
    }
   ],
   "source": [
    "graph={\n",
    "    'A': ['B','C'],\n",
    "    'B': ['D','E'],\n",
    "    'C': ['F'],\n",
    "    'D': ['G'],\n",
    "    'E': [],\n",
    "    'F': [],\n",
    "    'G': [] \n",
    "}\n",
    "visited=set()\n",
    "def dfs(visited,graph,node):\n",
    "    if node not in graph:\n",
    "        return(print(\"Node not found\"))\n",
    "    if node not in visited:\n",
    "        print(node,end=\" \")\n",
    "        visited.add(node)\n",
    "        for neighbour in graph[node]:\n",
    "            dfs(visited,graph,neighbour)\n",
    "            \n",
    "print(\"Following is the Depth-First Search\")\n",
    "dfs(visited,graph,'A')\n"
   ]
  }
 ],
 "metadata": {
  "kernelspec": {
   "display_name": "Python 3",
   "language": "python",
   "name": "python3"
  },
  "language_info": {
   "codemirror_mode": {
    "name": "ipython",
    "version": 3
   },
   "file_extension": ".py",
   "mimetype": "text/x-python",
   "name": "python",
   "nbconvert_exporter": "python",
   "pygments_lexer": "ipython3",
   "version": "3.11.2"
  }
 },
 "nbformat": 4,
 "nbformat_minor": 2
}
