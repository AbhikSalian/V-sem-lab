{
 "cells": [
  {
   "cell_type": "code",
   "execution_count": 14,
   "metadata": {},
   "outputs": [],
   "source": [
    "import csv,random,math"
   ]
  },
  {
   "cell_type": "code",
   "execution_count": 15,
   "metadata": {},
   "outputs": [],
   "source": [
    "def loadcsv(filename):\n",
    "    lines=csv.reader(open(filename,\"r\"))\n",
    "    dataset=list(lines)\n",
    "    #print(dataset)\n",
    "    #print(len(dataset))\n",
    "    for i in range(len(dataset)):\n",
    "        #print(datasedt[i])\n",
    "        dataset[i]=[float(x) for x in dataset[i]]\n",
    "        return dataset"
   ]
  },
  {
   "cell_type": "code",
   "execution_count": 16,
   "metadata": {},
   "outputs": [],
   "source": [
    "def splitDataset(dataset,splitRatio):\n",
    "    trainSize=int(len(dataset)*splitRatio)\n",
    "    print(trainSize)\n",
    "    trainSet=[]\n",
    "    copy=list(dataset)\n",
    "    while len(trainSet)<trainSize:\n",
    "        index=random.randrange(len(copy))\n",
    "        trainSet.append(copy.pop(index))\n",
    "        return [trainSet,copy]"
   ]
  },
  {
   "cell_type": "code",
   "execution_count": 17,
   "metadata": {},
   "outputs": [],
   "source": [
    "def separateByClass(dataset):\n",
    "    separated={}\n",
    "    for i in range(len(dataset)):\n",
    "        vector=dataset[i]\n",
    "        #print(vector)\n",
    "        if(vector[-1] not in separated):\n",
    "            separated[vector[-1]]=[]\n",
    "            separated[vector[-1]].append(vector)\n",
    "            return separated\n",
    "        "
   ]
  },
  {
   "cell_type": "code",
   "execution_count": 18,
   "metadata": {},
   "outputs": [],
   "source": [
    "def mean(numbers):\n",
    "    return sum(numbers)/float(len(numbers))\n",
    "def stddey(numbers):\n",
    "    avg=mean(numbers)\n",
    "    variance=sum([pow(x-avg,2) for x in numbers]) / float(len(numbers)-1)\n",
    "    return math.sqrt(variance)"
   ]
  },
  {
   "cell_type": "code",
   "execution_count": 19,
   "metadata": {},
   "outputs": [],
   "source": [
    "def summarize(dataset):\n",
    "    summaries=[(mean(attribute),stddey(attribute)) for attribute in zip(*dataset)]\n",
    "    del summaries[-1]\n",
    "    return summaries"
   ]
  },
  {
   "cell_type": "code",
   "execution_count": 20,
   "metadata": {},
   "outputs": [],
   "source": [
    "def summarizeByClass(dataset):\n",
    "    separated=separateByClass(dataset)\n",
    "    #print(\"Separated\",separated)\n",
    "    summaries={}\n",
    "    for classValue,instances in separated.items():\n",
    "        summaries[classValue]=summarize(instances)\n",
    "        return summaries"
   ]
  },
  {
   "cell_type": "code",
   "execution_count": 21,
   "metadata": {},
   "outputs": [],
   "source": [
    "def calculateProbability(x,mean,stddey):\n",
    "    exponent=math.exp(-(math.pow(x-mean,2)/(2*math.pow(stddey,2))))\n",
    "    return (1/(math.sqrt(2*math.pi)*stddey))*exponent"
   ]
  },
  {
   "cell_type": "code",
   "execution_count": 22,
   "metadata": {},
   "outputs": [],
   "source": [
    "def calculateClassProbabilities(summaries,inputVector):\n",
    "    probabilities={}\n",
    "    for classValue,classSummaries in summaries.items():\n",
    "        probabilities[classValue]=1\n",
    "        for i in range(len(classSummaries)):\n",
    "            mean,stddey=classSummaries[i]\n",
    "            x=inputVector[i]\n",
    "            print(\"**\",mean,stddey,x)\n",
    "            probabilities[classValue]*=calculateProbability(x,mean,stddey)\n",
    "            print(\"individual probability\",probabilities[classValue])\n",
    "    return probabilities"
   ]
  },
  {
   "cell_type": "code",
   "execution_count": 23,
   "metadata": {},
   "outputs": [],
   "source": [
    "def predict(summaries,inputvector):\n",
    "    probabilities=calculateClassProbabilities(summaries,inputVector)\n",
    "    print(\"@@@@\",probabilities)\n",
    "    bestLabel,bestProb=None,-1\n",
    "    for classValue,probability in probabilities.items():\n",
    "        if bestLabel is None or probability>bestProb:\n",
    "            bestProb=probability\n",
    "            bestLabel=classValue\n",
    "    return bestLabel"
   ]
  },
  {
   "cell_type": "code",
   "execution_count": 24,
   "metadata": {},
   "outputs": [],
   "source": [
    "def getPredictions(summaries,testSet):\n",
    "    predictions=[]\n",
    "    for i in range(len(testSet)):\n",
    "        result=predict(summaries,testSet[i])\n",
    "        predictions.append(result)\n",
    "    return predictions"
   ]
  },
  {
   "cell_type": "code",
   "execution_count": 25,
   "metadata": {},
   "outputs": [],
   "source": [
    "def getAccuracy(testSet,predictions):\n",
    "    correct=0\n",
    "    for i in range(len(testSet)):\n",
    "        if(testSet[i][-1]==predictions[i]):\n",
    "            correct += 1\n",
    "            return (correct/float(len(testSet)))*100.0\n",
    "            "
   ]
  },
  {
   "cell_type": "code",
   "execution_count": 26,
   "metadata": {},
   "outputs": [
    {
     "name": "stdout",
     "output_type": "stream",
     "text": [
      "\n",
      " The length of the datatset: 768\n",
      "\n",
      " The data splitting into training and testing\n",
      "\n",
      "614\n",
      "\n",
      " Number of rows in trainingset:1 rows\n",
      "\n",
      " Number of rows in testing set:767rows\n",
      "\n",
      "First five rows of training set :\n",
      "\n",
      "['0', '138', '0', '0', '0', '36.3', '0.933', '25', '1'] \n",
      "\n"
     ]
    },
    {
     "ename": "IndexError",
     "evalue": "list index out of range",
     "output_type": "error",
     "traceback": [
      "\u001b[0;31m---------------------------------------------------------------------------\u001b[0m",
      "\u001b[0;31mIndexError\u001b[0m                                Traceback (most recent call last)",
      "\u001b[1;32mUntitled-1.ipynb Cell 13\u001b[0m line \u001b[0;36m2\n\u001b[1;32m     <a href='vscode-notebook-cell:Untitled-1.ipynb?jupyter-notebook#X15sdW50aXRsZWQ%3D?line=24'>25</a>\u001b[0m     \u001b[39mprint\u001b[39m(\u001b[39m\"\u001b[39m\u001b[39m\\n\u001b[39;00m\u001b[39m Accuracy: \u001b[39m\u001b[39m{0}\u001b[39;00m\u001b[39m%\u001b[39m\u001b[39m\"\u001b[39m\u001b[39m.\u001b[39mformat(accuracy))\n\u001b[1;32m     <a href='vscode-notebook-cell:Untitled-1.ipynb?jupyter-notebook#X15sdW50aXRsZWQ%3D?line=26'>27</a>\u001b[0m \u001b[39mimport\u001b[39;00m \u001b[39mcsv\u001b[39;00m\u001b[39m,\u001b[39m\u001b[39mrandom\u001b[39;00m\u001b[39m,\u001b[39m\u001b[39mmath\u001b[39;00m\n\u001b[0;32m---> <a href='vscode-notebook-cell:Untitled-1.ipynb?jupyter-notebook#X15sdW50aXRsZWQ%3D?line=27'>28</a>\u001b[0m NaiveBeyes()\n",
      "\u001b[1;32mUntitled-1.ipynb Cell 13\u001b[0m line \u001b[0;36m1\n\u001b[1;32m     <a href='vscode-notebook-cell:Untitled-1.ipynb?jupyter-notebook#X15sdW50aXRsZWQ%3D?line=10'>11</a>\u001b[0m \u001b[39mprint\u001b[39m(\u001b[39m\"\u001b[39m\u001b[39m\\n\u001b[39;00m\u001b[39mFirst five rows of training set :\u001b[39m\u001b[39m\\n\u001b[39;00m\u001b[39m\"\u001b[39m)\n\u001b[1;32m     <a href='vscode-notebook-cell:Untitled-1.ipynb?jupyter-notebook#X15sdW50aXRsZWQ%3D?line=11'>12</a>\u001b[0m \u001b[39mfor\u001b[39;00m i \u001b[39min\u001b[39;00m \u001b[39mrange\u001b[39m(\u001b[39m0\u001b[39m,\u001b[39m5\u001b[39m):\n\u001b[0;32m---> <a href='vscode-notebook-cell:Untitled-1.ipynb?jupyter-notebook#X15sdW50aXRsZWQ%3D?line=12'>13</a>\u001b[0m     \u001b[39mprint\u001b[39m(trainingSet[i],\u001b[39m\"\u001b[39m\u001b[39m\\n\u001b[39;00m\u001b[39m\"\u001b[39m)\n\u001b[1;32m     <a href='vscode-notebook-cell:Untitled-1.ipynb?jupyter-notebook#X15sdW50aXRsZWQ%3D?line=13'>14</a>\u001b[0m \u001b[39mprint\u001b[39m(\u001b[39m\"\u001b[39m\u001b[39m\\n\u001b[39;00m\u001b[39m first three rows of testing set:\u001b[39m\u001b[39m\\n\u001b[39;00m\u001b[39m\"\u001b[39m)\n\u001b[1;32m     <a href='vscode-notebook-cell:Untitled-1.ipynb?jupyter-notebook#X15sdW50aXRsZWQ%3D?line=14'>15</a>\u001b[0m \u001b[39mfor\u001b[39;00m i \u001b[39min\u001b[39;00m \u001b[39mrange\u001b[39m(\u001b[39m0\u001b[39m,\u001b[39m3\u001b[39m):\n",
      "\u001b[0;31mIndexError\u001b[0m: list index out of range"
     ]
    }
   ],
   "source": [
    "def NaiveBeyes():\n",
    "    filename='data6.csv'\n",
    "    splitRatio=0.8\n",
    "    dataset=loadcsv(filename)\n",
    "    print(\"\\n The length of the datatset:\",len(dataset))\n",
    "    print(\"\\n The data splitting into training and testing\\n\")\n",
    "    trainingSet,testSet=splitDataset(dataset,splitRatio)\n",
    "    \n",
    "    print(\"\\n Number of rows in trainingset:{0} rows\".format(len(trainingSet)))\n",
    "    print(\"\\n Number of rows in testing set:{0}rows\".format(len(testSet)))\n",
    "    print(\"\\nFirst five rows of training set :\\n\")\n",
    "    for i in range(0,5):\n",
    "        print(trainingSet[i],\"\\n\")\n",
    "    print(\"\\n first three rows of testing set:\\n\")\n",
    "    for i in range(0,3):\n",
    "        print(testSet[i],\"\\n\")\n",
    "        \n",
    "    summaries=summarizeByClass(trainingSet)\n",
    "    print(\"\\nModel summaries:\\n\",summaries)\n",
    "    \n",
    "    predictions=getPredictions(summaries,testSet)\n",
    "    print(\"\\n Predictions:\\n\",predictions)\n",
    "    \n",
    "    accuracy=getAccuracy(testSet,predictions)\n",
    "    print(\"\\n Accuracy: {0}%\".format(accuracy))\n",
    "    \n",
    "import csv,random,math\n",
    "NaiveBeyes()\n",
    "    "
   ]
  },
  {
   "cell_type": "code",
   "execution_count": null,
   "metadata": {},
   "outputs": [],
   "source": []
  }
 ],
 "metadata": {
  "kernelspec": {
   "display_name": "Python 3",
   "language": "python",
   "name": "python3"
  },
  "language_info": {
   "codemirror_mode": {
    "name": "ipython",
    "version": 3
   },
   "file_extension": ".py",
   "mimetype": "text/x-python",
   "name": "python",
   "nbconvert_exporter": "python",
   "pygments_lexer": "ipython3",
   "version": "3.11.3"
  }
 },
 "nbformat": 4,
 "nbformat_minor": 2
}
